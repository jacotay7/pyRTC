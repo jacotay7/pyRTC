{
 "cells": [
  {
   "cell_type": "markdown",
   "metadata": {},
   "source": [
    "# pyRTC Example: Simulated Single Conjugate AO system with Pyramid Wavefront Sensor\n",
    "\n",
    "This example will take you through how to set-up a basic SCAO system in pyRTC which uses the OOPAO simulation software to simulate the necessary AO hardware components.\n",
    "\n",
    "### IMPORTANT NOTE BEFORE STARTING\n",
    "\n",
    "**This notebook runs all of the AO components inside a single process. Because of the python Global Interpretter Lock, this will lead to SLOW performance, but will easier to debug. If you would like to run each computation as an independent process you will need to use the Hardware Launcher tool. Please see pywfs_example_OOPAO_pipeline.py for instructions** "
   ]
  },
  {
   "cell_type": "code",
   "execution_count": null,
   "metadata": {},
   "outputs": [],
   "source": [
    "#Import the basics\n",
    "import numpy as np\n",
    "import yaml\n",
    "import matplotlib.pyplot as plt\n",
    "\n",
    "#Import hardware classes\n",
    "from pyRTC.hardware.OOPAOInterface import OOPAOInterface\n",
    "from pyRTC.SlopesProcess import SlopesProcess\n",
    "from pyRTC.Pipeline import *\n",
    "from pyRTC.Loop import Loop\n",
    "\n",
    "import time"
   ]
  },
  {
   "cell_type": "code",
   "execution_count": null,
   "metadata": {},
   "outputs": [],
   "source": [
    "\"\"\"\n",
    "Shared memory in python is a bit annoying, we are required to unlink it from the garbage collector\n",
    "so that it will stick around in between runs, however sometime you can get into a situation where \n",
    "the SHM is not intialized properly. Usually you will see an error like: \n",
    "TypeError: buffer is too small for requested array\n",
    "\n",
    "To reset a SHM you can run the following code. Note: it will throw some garbage collector errors.\n",
    "\"\"\"\n",
    "# shm_names = [\"wfs\", \"wfsRaw\", \"wfc\", \"wfc2D\", \"signal\", \"signal2D\", \"psfShort\", \"psfLong\"] #list of SHMs to reset\n",
    "# clear_shms(shm_names)"
   ]
  },
  {
   "cell_type": "markdown",
   "metadata": {},
   "source": [
    "pyRTC uses YAML config files to specify all of the variables for each component of your AO system. Setting up the config file properly is very important in order to have pyRTC run correctly.\n",
    "\n",
    "For this example, we will be using the config file: pywfs_OOPAO_config.yaml"
   ]
  },
  {
   "cell_type": "code",
   "execution_count": null,
   "metadata": {},
   "outputs": [],
   "source": [
    "# Load the configuration file\n",
    "def read_yaml_file(file_path):\n",
    "    with open(file_path, 'r') as file:\n",
    "        conf = yaml.safe_load(file)\n",
    "    return conf\n",
    "\n",
    "#Now we can read our YAML config file \n",
    "conf = read_yaml_file(\"pywfs_OOPAO_config.yaml\")\n",
    "\n",
    "#And separate it into sections for each of our AO loop components\n",
    "confLoop = conf[\"loop\"]\n",
    "confWFS = conf[\"wfs\"]\n",
    "confWFC = conf[\"wfc\"]\n",
    "confPSF = conf[\"psf\"]\n",
    "confSlopes = conf[\"slopes\"]\n",
    "\n",
    "print(confLoop)\n",
    "print(confWFS)\n",
    "print(confWFC)\n",
    "print(confPSF)\n",
    "print(confSlopes)"
   ]
  },
  {
   "cell_type": "markdown",
   "metadata": {},
   "source": [
    "We have defined an OOPAO interface object which sets up an SCAO loop. This object is a wrapper for the following sub classes:\n",
    "\n",
    "- _OOPAOScienceCamera\n",
    "- _OOPAOSlopesProcess\n",
    "- _OOPAOWFCorrector\n",
    "- _OOPAOWFSensor\n",
    "\n",
    "Each of these subclasses is a child of a pyRTC core class, which adds the interfacing and logic required by the OOPAO package. There are several core pyRTC classes, which each represent abstract versions of standard AO components. Some examples of pyRTC core classes include:\n",
    "\n",
    "- WavefrontSensor\n",
    "- WavefrontCorrector\n",
    "- SlopesProcess\n",
    "- ScienceCamera\n",
    "\n",
    "The OOPAO interface is a wrapper for these objects which initializes them given the user provided configuration. Right now, this is limited to SCAO systems, but there is no reason that it could not be easily modified to support multiple wavefront sensors or correctors."
   ]
  },
  {
   "cell_type": "code",
   "execution_count": null,
   "metadata": {},
   "outputs": [],
   "source": [
    "\"\"\"\n",
    "Create the OOPAO simulation interface object \n",
    "Running this cell will initialize the dm, wfs, psf, and slopes objects, \n",
    "but will not start their real time computations. This inialization includes\n",
    "the creation of the Shared Memory Objects, and the simulation inialization.\n",
    "\"\"\"\n",
    "sim = OOPAOInterface(conf=conf, param=None)\n",
    "wfs, dm, psf = sim.get_hardware()\n",
    "\n",
    "\"\"\"\n",
    "It's important to set the full basis and number of possible modes before\n",
    "initializing the loop object. Here I define a KL basis for the system\n",
    "\"\"\"\n",
    "from OOPAO.calibration.compute_KL_modal_basis import compute_KL_basis\n",
    "\n",
    "NUM_MODES = 100 #confWFC[\"numModes\"] #must be less than total KL modes\n",
    "\n",
    "M2C_KL = compute_KL_basis(sim.tel, sim.atm, sim.dm)\n",
    "dm.setM2C(M2C_KL[:,:NUM_MODES])\n",
    "\n",
    "\"\"\"\n",
    "\"\"\"\n",
    "slopes = SlopesProcess(conf=conf)\n",
    "\n",
    "\"\"\" \n",
    "\"\"\"\n",
    "#Initialize our AO loop object\n",
    "loop = Loop(conf=conf)\n"
   ]
  },
  {
   "cell_type": "code",
   "execution_count": null,
   "metadata": {},
   "outputs": [],
   "source": [
    "\"\"\"\n",
    "Start the processes. Here the real-time computations selected in\n",
    "the config will begin.\n",
    "\"\"\"\n",
    "dm.start()\n",
    "dm.flatten()\n",
    "\n",
    "wfs.start()\n",
    "slopes.start()\n",
    "\n",
    "print(sim.dm.OPD.shape)\n",
    "psf.start()"
   ]
  },
  {
   "cell_type": "markdown",
   "metadata": {},
   "source": [
    "### IMPORTANT: REAL-TIME VIEWING \n",
    "\n",
    "At this point, you can look at the shared memory objects to see what is happening in real time as we run the AO loop.\n",
    "\n",
    "First, navigate on a terminal to the pyRTCView Folder: \n",
    "\n",
    "```cd INSTALLTION_LOCATION/pyRTC/pyRTCView```\n",
    "\n",
    "Now run the viewer for whatever shared memory you would like to look at. For the default simulation run:\n",
    "\n",
    "```\n",
    "python pyRTCView.py wfs &\n",
    "python pyRTCView.py wfc2D &\n",
    "python pyRTCView.py signal2D &\n",
    "python pyRTCView.py psfShort &\n",
    "```"
   ]
  },
  {
   "cell_type": "code",
   "execution_count": null,
   "metadata": {},
   "outputs": [],
   "source": [
    "#Remove the atmosphere from the simulation\n",
    "sim.removeAtmosphere()\n",
    "\n",
    "loop.pokeAmp = 1e-7\n",
    "\n",
    "#Compute the IM, blocking\n",
    "loop.computeIM()\n",
    "\n",
    "#Add the atmosphere back to the simulation\n",
    "sim.addAtmosphere()"
   ]
  },
  {
   "cell_type": "code",
   "execution_count": null,
   "metadata": {},
   "outputs": [],
   "source": [
    "plt.imshow(sim.dm.OPD)"
   ]
  },
  {
   "cell_type": "code",
   "execution_count": null,
   "metadata": {},
   "outputs": [],
   "source": [
    "loop.plotIM()"
   ]
  },
  {
   "cell_type": "code",
   "execution_count": null,
   "metadata": {},
   "outputs": [],
   "source": [
    "dm.flatten()\n",
    "time.sleep(1e-2)\n",
    "loop.setGain(0.3)\n",
    "loop.start()\n",
    "time.sleep(10)\n",
    "loop.stop()\n",
    "dm.flatten()"
   ]
  },
  {
   "cell_type": "code",
   "execution_count": null,
   "metadata": {},
   "outputs": [],
   "source": [
    "plt.imshow(sim.wfs.signal_2D)\n",
    "plt.colorbar()\n",
    "plt.show()\n",
    "\n",
    "plt.imshow(slopes.signal2D.read_noblock_safe())\n",
    "plt.colorbar()\n",
    "plt.show()"
   ]
  },
  {
   "cell_type": "code",
   "execution_count": null,
   "metadata": {},
   "outputs": [],
   "source": []
  }
 ],
 "metadata": {
  "kernelspec": {
   "display_name": "base",
   "language": "python",
   "name": "python3"
  },
  "language_info": {
   "codemirror_mode": {
    "name": "ipython",
    "version": 3
   },
   "file_extension": ".py",
   "mimetype": "text/x-python",
   "name": "python",
   "nbconvert_exporter": "python",
   "pygments_lexer": "ipython3",
   "version": "3.9.12"
  }
 },
 "nbformat": 4,
 "nbformat_minor": 2
}
