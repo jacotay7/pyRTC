{
 "cells": [
  {
   "cell_type": "code",
   "execution_count": null,
   "metadata": {},
   "outputs": [],
   "source": [
    "import numpy as np\n",
    "import yaml\n",
    "import matplotlib.pyplot as plt\n",
    "\n",
    "#Import hardware classes\n",
    "from pyRTC.hardware.OOPAOInterface import OOPAOInterface\n",
    "from pyRTC.SlopesProcess import SlopesProcess\n",
    "from pyRTC.Pipeline import *\n",
    "from pyRTC.Loop import Loop\n",
    "from pyRTC.hardware.LoopGymInterface import LoopGymInterface\n",
    "\n",
    "import gymnasium\n",
    "from rtgym import DEFAULT_CONFIG_DICT\n",
    "import time"
   ]
  },
  {
   "cell_type": "code",
   "execution_count": null,
   "metadata": {},
   "outputs": [],
   "source": [
    "\"\"\"\n",
    "Shared memory in python is a bit annoying, we are required to unlink it from the garbage collector\n",
    "so that it will stick around in between runs, however sometime you can get into a situation where \n",
    "the SHM is not intialized properly. Usually you will see an error like: \n",
    "TypeError: buffer is too small for requested array\n",
    "\n",
    "To reset a SHM you can run the following code. Note: it will throw some garbage collector errors.\n",
    "\"\"\"\n",
    "# shm_names = [\"wfs\", \"wfsRaw\", \"wfc\", \"wfc2D\", \"signal\", \"signal2D\", \"psfShort\", \"psfLong\"] #list of SHMs to reset\n",
    "# clear_shms(shm_names)"
   ]
  },
  {
   "cell_type": "code",
   "execution_count": null,
   "metadata": {},
   "outputs": [],
   "source": [
    "# Load the configuration file\n",
    "def read_yaml_file(file_path):\n",
    "    with open(file_path, 'r') as file:\n",
    "        conf = yaml.safe_load(file)\n",
    "    return conf\n",
    "\n",
    "#Now we can read our YAML config file \n",
    "conf = read_yaml_file(\"simple_OOPAO_config.yaml\")\n",
    "\n",
    "#And separate it into sections for each of our AO loop components\n",
    "confLoop = conf[\"loop\"]\n",
    "confWFS = conf[\"wfs\"]\n",
    "confWFC = conf[\"wfc\"]\n",
    "confPSF = conf[\"psf\"]\n",
    "confSlopes = conf[\"slopes\"]\n",
    "\n",
    "print(confLoop)\n",
    "print(confWFS)\n",
    "print(confWFC)\n",
    "print(confPSF)\n",
    "print(confSlopes)"
   ]
  },
  {
   "cell_type": "code",
   "execution_count": null,
   "metadata": {},
   "outputs": [],
   "source": [
    "from simpleParamFile import *\n",
    "param = initializeParameterFile()"
   ]
  },
  {
   "cell_type": "code",
   "execution_count": null,
   "metadata": {},
   "outputs": [],
   "source": [
    "\"\"\"\n",
    "Create the OOPAO simulation interface object \n",
    "Running this cell will initialize the dm, wfs, psf, and slopes objects, \n",
    "but will not start their real time computations. This inialization includes\n",
    "the creation of the Shared Memory Objects, and the simulation inialization.\n",
    "\"\"\"\n",
    "sim = OOPAOInterface(conf=conf, param=param)\n",
    "wfs, dm, psf = sim.get_hardware()\n",
    "\n",
    "plt.imshow(wfs.wfs.cam.frame)\n",
    "plt.show()\n",
    "\n",
    "plt.imshow(dm.layout)\n",
    "plt.show()\n",
    "\n",
    "print(f\"NUM VALID ACT: {np.sum(dm.layout)}\")"
   ]
  },
  {
   "cell_type": "code",
   "execution_count": null,
   "metadata": {},
   "outputs": [],
   "source": [
    "\"\"\"\n",
    "It's important to set the full basis and number of possible modes before\n",
    "initializing the loop object. Here I define a KL basis for the system\n",
    "\"\"\"\n",
    "from OOPAO.calibration.compute_KL_modal_basis import compute_KL_basis\n",
    "\n",
    "NUM_MODES = 21\n",
    "\n",
    "M2C_KL = compute_KL_basis(sim.tel, sim.atm, sim.dm)\n",
    "dm.setM2C(M2C_KL[:,:NUM_MODES])\n",
    "\n",
    "\"\"\"\n",
    "\"\"\"\n",
    "slopes = SlopesProcess(conf=conf)\n",
    "\n",
    "\"\"\" \n",
    "\"\"\"\n",
    "#Initialize our AO loop object\n",
    "loop = Loop(conf=conf)"
   ]
  },
  {
   "cell_type": "code",
   "execution_count": null,
   "metadata": {},
   "outputs": [],
   "source": [
    "### Setup the RTGym config ###\n",
    "\n",
    "my_config = DEFAULT_CONFIG_DICT\n",
    "my_config[\"interface\"] = LoopGymInterface\n",
    "\n",
    "my_config[\"interface_args\"] = (loop,)\n",
    "my_config[\"time_step_duration\"] = 0.05\n",
    "my_config[\"start_obs_capture\"] = 0.05\n",
    "my_config[\"time_step_timeout_factor\"] = 2.0\n",
    "my_config[\"ep_max_length\"] = 100\n",
    "my_config[\"act_buf_len\"] = 4\n",
    "my_config[\"reset_act_buf\"] = False"
   ]
  },
  {
   "cell_type": "code",
   "execution_count": null,
   "metadata": {},
   "outputs": [],
   "source": [
    "### Make the Gym env ###\n",
    "\n",
    "env = gymnasium.make(\"real-time-gym-v1\", config=my_config)"
   ]
  },
  {
   "cell_type": "code",
   "execution_count": null,
   "metadata": {},
   "outputs": [],
   "source": [
    "\"\"\"\n",
    "Start the processes. Here the real-time computations selected in\n",
    "the config will begin.\n",
    "\"\"\"\n",
    "dm.start()\n",
    "dm.flatten()\n",
    "\n",
    "wfs.start()\n",
    "slopes.start()\n",
    "\n",
    "#Take new reference slopes while dm is flat.\n",
    "# time.sleep(1)\n",
    "# slopes.takeRefSlopes()\n",
    "\n",
    "print(sim.dm.OPD.shape)\n",
    "psf.start()"
   ]
  },
  {
   "cell_type": "code",
   "execution_count": null,
   "metadata": {},
   "outputs": [],
   "source": [
    "sim.removeAtmosphere()"
   ]
  },
  {
   "cell_type": "code",
   "execution_count": null,
   "metadata": {},
   "outputs": [],
   "source": [
    "#Remove the atmosphere from the simulation\n",
    "sim.removeAtmosphere()\n",
    "\n",
    "loop.pokeAmp = 1e-7\n",
    "\n",
    "#Compute the IM, blocking\n",
    "loop.computeIM()\n",
    "\n",
    "#Add the atmosphere back to the simulation\n",
    "sim.addAtmosphere()"
   ]
  },
  {
   "cell_type": "code",
   "execution_count": null,
   "metadata": {},
   "outputs": [],
   "source": [
    "loop.plotIM()"
   ]
  },
  {
   "cell_type": "code",
   "execution_count": null,
   "metadata": {},
   "outputs": [],
   "source": [
    "dm.flatten()\n",
    "time.sleep(1e-2)\n",
    "loop.setGain(0.3)\n",
    "loop.start()\n",
    "time.sleep(20)\n",
    "loop.stop()\n",
    "dm.flatten()"
   ]
  },
  {
   "cell_type": "code",
   "execution_count": null,
   "metadata": {},
   "outputs": [],
   "source": [
    "dm.push(10, 1e-6)"
   ]
  },
  {
   "cell_type": "code",
   "execution_count": null,
   "metadata": {},
   "outputs": [],
   "source": [
    "# loop.saveIM(\"simpleIM.npy\")"
   ]
  },
  {
   "cell_type": "code",
   "execution_count": null,
   "metadata": {},
   "outputs": [],
   "source": []
  }
 ],
 "metadata": {
  "kernelspec": {
   "display_name": "pyRTC",
   "language": "python",
   "name": "python3"
  },
  "language_info": {
   "codemirror_mode": {
    "name": "ipython",
    "version": 3
   },
   "file_extension": ".py",
   "mimetype": "text/x-python",
   "name": "python",
   "nbconvert_exporter": "python",
   "pygments_lexer": "ipython3",
   "version": "3.10.14"
  }
 },
 "nbformat": 4,
 "nbformat_minor": 2
}
