{
 "cells": [
  {
   "cell_type": "code",
   "execution_count": 1,
   "metadata": {},
   "outputs": [
    {
     "name": "stdout",
     "output_type": "stream",
     "text": [
      "\n",
      "\n",
      "======================================================================================>      \n",
      "   ✸       *           °                *      *                                            \n",
      "        °   ✸           ▄███▄   ▄███▄  ▄████▄   ▄███▄ * ▄███▄    =>               ▄▄▄▄           \n",
      "  ✸            °       ██*  ██ ██   ██ ██   ██ ██   ██ ██   ██   ====>         ▄█▀▀  ▀▀█▄        \n",
      "   *   °    ✸          ██   ██ ██ ° ██ ██   ██ ██ * ██ ██   ██   ==>          █▀ ▄█▀▀█▄ ▀█       \n",
      "✸    *             °   ██   ██ ██   ██ █████▀  ██▄▄▄██ ██   ██   =========>  █▀ █▀ ▄▄ ▀█ ▀█      \n",
      "           ✸   °       ██ * ██ ██   ██ ██      ██▀▀▀██ ██   ██   ========>   █▄ █▄ ▀▀ ▄█ ▄█      \n",
      " *    ✸     °          ██   ██ ██   ██ ██  *   ██   ██ ██*  ██   =>           █▄ ▀█▄▄█▀ ▄█       \n",
      "    °        *    ✸     ▀███▀   ▀███▀  ██    ° ██   ██  ▀███▀    ==>           ▀█▄▄  ▄▄█▀        \n",
      "         ✸       *          *         *                                           ▀▀▀▀           \n",
      "======================================================================================>      \n",
      "\n",
      "\n",
      "**************************************************************************************************************************************************************\n",
      "NUMPY WARNING: mkl blas not found! Multi-threading may not work as expected.\n",
      "**************************************************************************************************************************************************************\n"
     ]
    }
   ],
   "source": [
    "#Import the basics\n",
    "import numpy as np\n",
    "import yaml\n",
    "import matplotlib.pyplot as plt\n",
    "\n",
    "#Import hardware classes\n",
    "from pyRTC.hardware.OOPAOInterface import OOPAOInterface\n",
    "from pyRTC.SlopesProcess import SlopesProcess\n",
    "from pyRTC.Pipeline import *\n",
    "from pyRTC.Loop import Loop\n",
    "\n",
    "import time"
   ]
  },
  {
   "cell_type": "code",
   "execution_count": 2,
   "metadata": {},
   "outputs": [
    {
     "data": {
      "text/plain": [
       "'\\nShared memory in python is a bit annoying, we are required to unlink it from the garbage collector\\nso that it will stick around in between runs, however sometime you can get into a situation where \\nthe SHM is not intialized properly. Usually you will see an error like: \\nTypeError: buffer is too small for requested array\\n\\nTo reset a SHM you can run the following code. Note: it will throw some garbage collector errors.\\n'"
      ]
     },
     "execution_count": 2,
     "metadata": {},
     "output_type": "execute_result"
    }
   ],
   "source": [
    "\"\"\"\n",
    "Shared memory in python is a bit annoying, we are required to unlink it from the garbage collector\n",
    "so that it will stick around in between runs, however sometime you can get into a situation where \n",
    "the SHM is not intialized properly. Usually you will see an error like: \n",
    "TypeError: buffer is too small for requested array\n",
    "\n",
    "To reset a SHM you can run the following code. Note: it will throw some garbage collector errors.\n",
    "\"\"\"\n",
    "# shm_names = [\"wfs\", \"wfsRaw\", \"wfc\", \"wfc2D\", \"signal\", \"signal2D\"] #list of SHMs to reset\n",
    "# clear_shms(shm_names)"
   ]
  },
  {
   "cell_type": "code",
   "execution_count": 3,
   "metadata": {},
   "outputs": [
    {
     "name": "stdout",
     "output_type": "stream",
     "text": [
      "{'gain': 0.1, 'numDroppedModes': 0, 'pokeAmp': 1e-06, 'numItersIM': 10, 'affinity': 2, 'method': 'push-pull', 'functions': ['standardIntegrator']}\n",
      "{'name': 'OOPAOWFS', 'width': 32, 'height': 32, 'darkCount': 10, 'affinity': 3, 'functions': ['expose']}\n",
      "{'name': 'OOPAOWFC', 'numActuators': 21, 'numModes': 21, 'flatFile': '', 'saveFile': 'flat.npy', 'm2cFile': '', 'affinity': 3, 'commandCap': 0.8, 'hardwareDelay': 0.1, 'frameDelay': 0, 'functions': ['sendToHardware']}\n",
      "{'name': 'OOPAOPSF', 'index': 0, 'width': 54, 'height': 54, 'darkCount': 1000, 'integration': 100, 'affinity': 3, 'functions': ['expose']}\n",
      "{'type': 'SHWFS', 'signalType': 'slopes', 'affinity': 4, 'refSlopesFile': '', 'validSubApsFile': '', 'subApSpacing': 8, 'subApOffsetX': 0, 'subApOffsetY': 0, 'functions': ['computeSignal']}\n"
     ]
    }
   ],
   "source": [
    "# Load the configuration file\n",
    "def read_yaml_file(file_path):\n",
    "    with open(file_path, 'r') as file:\n",
    "        conf = yaml.safe_load(file)\n",
    "    return conf\n",
    "\n",
    "#Now we can read our YAML config file \n",
    "conf = read_yaml_file(\"simple_OOPAO_config.yaml\")\n",
    "\n",
    "#And separate it into sections for each of our AO loop components\n",
    "confLoop = conf[\"loop\"]\n",
    "confWFS = conf[\"wfs\"]\n",
    "confWFC = conf[\"wfc\"]\n",
    "confPSF = conf[\"psf\"]\n",
    "confSlopes = conf[\"slopes\"]\n",
    "\n",
    "print(confLoop)\n",
    "print(confWFS)\n",
    "print(confWFC)\n",
    "print(confPSF)\n",
    "print(confSlopes)"
   ]
  },
  {
   "cell_type": "code",
   "execution_count": 4,
   "metadata": {},
   "outputs": [
    {
     "name": "stdout",
     "output_type": "stream",
     "text": [
      "Reading/Writting calibration data from data_calibration/\n",
      "Writting output data in data_cl/\n"
     ]
    }
   ],
   "source": [
    "from simpleParamFile import *\n",
    "param = initializeParameterFile()"
   ]
  },
  {
   "cell_type": "code",
   "execution_count": 5,
   "metadata": {},
   "outputs": [
    {
     "name": "stdout",
     "output_type": "stream",
     "text": [
      "%%%%%%%%%%%%%%%%%%%%%%%%%%%%%% TELESCOPE %%%%%%%%%%%%%%%%%%%%%%%%%%%%%%\n",
      "     Diameter             1                [m]        \n",
      "    Resolution            32             [pixels]     \n",
      "    Pixel Size           0.03              [m]        \n",
      "     Surface             1.0               [m2]       \n",
      "Central Obstruction       0.0         [% of diameter]  \n",
      "Pixels in the pupil       812             [pixels]     \n",
      "      Source             None                         \n",
      "%%%%%%%%%%%%%%%%%%%%%%%%%%%%%%%%%%%%%%%%%%%%%%%%%%%%%%%%%%%%%%%%%%%%%%%%%\n",
      "No light propagated through the telescope\n",
      "%%%%%%%%%%%%%%%%%%%%%%%%%%%%%% TELESCOPE %%%%%%%%%%%%%%%%%%%%%%%%%%%%%%\n",
      "     Diameter             1                [m]        \n",
      "    Resolution            32             [pixels]     \n",
      "    Pixel Size           0.03              [m]        \n",
      "     Surface             1.0               [m2]       \n",
      "Central Obstruction       0.0         [% of diameter]  \n",
      "Pixels in the pupil       812             [pixels]     \n",
      "      Source             None                         \n",
      "%%%%%%%%%%%%%%%%%%%%%%%%%%%%%%%%%%%%%%%%%%%%%%%%%%%%%%%%%%%%%%%%%%%%%%%%%\n",
      "No light propagated through the telescope\n",
      "%%%%%%%%%%%%%%%%%%%%%%%%%%%%%%%%%%%%%%%%%%%%%%%%%%%%%%%%%%% SOURCE %%%%%%%%%%%%%%%%%%%%%%%%%%%%%%%%%%%%%%%%%%%%%%%%%%%%%%%%%%%\n",
      "      Source          Wavelength     Zenith [arcsec]    Azimuth [deg]      Altitude [m]       Magnitude      Flux [phot/m2/s] \n",
      "------------------------------------------------------------------------------------------------------------------------------\n",
      "       NGS            2.179e-06             0                 0                inf               4.0            47780448.4    \n",
      "%%%%%%%%%%%%%%%%%%%%%%%%%%%%%%%%%%%%%%%%%%%%%%%%%%%%%%%%%%%%%%%%%%%%%%%%%%%%%%%%%%%%%%%%%%%%%%%%%%%%%%%%%%%%%%%%%%%%%%%%%%%%%%\n",
      "%%%%%%%%%%%%%%%%%%%%%%%%%%%%%%%%%%%%%%%%%%%%%%%%%%%%%%%%%%% SOURCE %%%%%%%%%%%%%%%%%%%%%%%%%%%%%%%%%%%%%%%%%%%%%%%%%%%%%%%%%%%\n",
      "      Source          Wavelength     Zenith [arcsec]    Azimuth [deg]      Altitude [m]       Magnitude      Flux [phot/m2/s] \n",
      "------------------------------------------------------------------------------------------------------------------------------\n",
      "       NGS             6.4e-07              0                 0                inf               4.0           273031133.9    \n",
      "%%%%%%%%%%%%%%%%%%%%%%%%%%%%%%%%%%%%%%%%%%%%%%%%%%%%%%%%%%%%%%%%%%%%%%%%%%%%%%%%%%%%%%%%%%%%%%%%%%%%%%%%%%%%%%%%%%%%%%%%%%%%%%\n",
      "No coordinates loaded.. taking the cartesian geometry as a default\n",
      "Generating a Deformable Mirror: \n",
      "Computing the 2D zonal modes...\n",
      "%%%%%%%%%%%%%%%%%%%%%%%%%%%%%% DEFORMABLE MIRROR %%%%%%%%%%%%%%%%%%%%%%%%%%%%%%\n",
      "Controlled Actuators         21        \n",
      "         M4                False       \n",
      "        Pitch               0.25              [m]        \n",
      " Mechanical Coupling        0.45              [%]        \n",
      "-------------------------------------------------------------------------------\n",
      "Mis-registration:\n",
      "Rotation [deg]\tShift X [m]\tShift Y [m]\tRadial Scaling [%]\tTangential Scaling [%]\n",
      "      0       \t     0     \t     0     \t        0         \t          0           \n",
      "%%%%%%%%%%%%%%%%%%%%%%%%%%%%%%%%%%%%%%%%%%%%%%%%%%%%%%%%%%%%%%%%%%%%%%%%%%%%%%%\n",
      "Selecting valid subapertures based on flux considerations..\n",
      "Acquiring reference slopes..\n",
      "Done!\n",
      "Setting slopes units..\n",
      "Done!\n",
      "%%%%%%%%%%%%%%%%%%%%%%%%%%%%%% SHACK HARTMANN WFS %%%%%%%%%%%%%%%%%%%%%%%%%%%%%%\n",
      "    Subapertures            4         \n",
      "  Subaperture Size         0.25              [m]        \n",
      "     Pixel FoV             0.26            [arcsec]     \n",
      "   Subapertue FoV          2.11            [arcsec]     \n",
      " Valid Subaperture          12        \n",
      "   Binning Factor           1         \n",
      "   Geometric WFS          False       \n",
      "  Shannon Sampling         True       \n",
      "%%%%%%%%%%%%%%%%%%%%%%%%%%%%%%%%%%%%%%%%%%%%%%%%%%%%%%%%%%%%%%%%%%%%%%%%%%%%%%%%\n",
      "Creation of layer1/1 ...\n",
      "-> Computing the initial phase screen...\n",
      "initial phase screen : 0.003144502639770508 s\n",
      "ZZt.. : 0.07160043716430664 s\n",
      "ZXt.. : 0.03151988983154297 s\n",
      "XXt.. : 0.016170501708984375 s\n",
      "Done!\n",
      "%%%%%%%%%%%%%%%%%%%%%%%%%%%%%%%%%%%%%%% ATMOSPHERE %%%%%%%%%%%%%%%%%%%%%%%%%%%%%%%%%%%%%%%\n",
      "      Layer        Direction [deg]     Speed [m/s]       Altitude [m]      Cn2 [m-2/3]    \n",
      "------------------------------------------------------------------------------------------\n",
      "        1                 0                 10                0                 1         \n",
      "------------------------------------------------------------------------------------------\n",
      "******************************************************************************************\n",
      "        r0             0.1 [m]      \n",
      "        L0              30 [m]      \n",
      "    Seeing (V)         1.03 [\"]     \n",
      "    Frequency        1000.0 [Hz]    \n",
      "%%%%%%%%%%%%%%%%%%%%%%%%%%%%%%%%%%%%%%%%%%%%%%%%%%%%%%%%%%%%%%%%%%%%%%%%%%%%%%%%%%%%%%%%%%\n",
      "Opening Existing Shared Memory Object wfsRaw\n",
      "Opening Existing Shared Memory Object wfsRaw_meta\n",
      "Opening Existing Shared Memory Object wfs\n",
      "Opening Existing Shared Memory Object wfs_meta\n",
      "Opening Existing Shared Memory Object wfc\n",
      "Opening Existing Shared Memory Object wfc_meta\n",
      "Closing wfc\n",
      "Opening Existing Shared Memory Object wfc\n",
      "Opening Existing Shared Memory Object wfc_meta\n",
      "Opening Existing Shared Memory Object wfc2D\n",
      "Opening Existing Shared Memory Object wfc2D_meta\n",
      "Opening Existing Shared Memory Object psfShort\n",
      "Opening Existing Shared Memory Object psfShort_meta\n",
      "Opening Existing Shared Memory Object psfLong\n",
      "Opening Existing Shared Memory Object psfLong_meta\n",
      "Telescope and Atmosphere combined!\n",
      "Telescope and Atmosphere combined!\n"
     ]
    },
    {
     "data": {
      "image/png": "[encoded data removed]",
      "text/plain": [
       "<Figure size 432x288 with 1 Axes>"
      ]
     },
     "metadata": {
      "needs_background": "light"
     },
     "output_type": "display_data"
    },
    {
     "data": {
      "image/png": "[encoded data removed]",
      "text/plain": [
       "<Figure size 432x288 with 1 Axes>"
      ]
     },
     "metadata": {
      "needs_background": "light"
     },
     "output_type": "display_data"
    },
    {
     "name": "stdout",
     "output_type": "stream",
     "text": [
      "NUM VALID ACT: 21\n"
     ]
    }
   ],
   "source": [
    "\"\"\"\n",
    "Create the OOPAO simulation interface object \n",
    "Running this cell will initialize the dm, wfs, psf, and slopes objects, \n",
    "but will not start their real time computations. This inialization includes\n",
    "the creation of the Shared Memory Objects, and the simulation inialization.\n",
    "\"\"\"\n",
    "sim = OOPAOInterface(conf=conf, param=param)\n",
    "wfs, dm, psf = sim.get_hardware()\n",
    "\n",
    "plt.imshow(wfs.wfs.cam.frame)\n",
    "plt.show()\n",
    "\n",
    "plt.imshow(dm.layout)\n",
    "plt.show()\n",
    "\n",
    "print(f\"NUM VALID ACT: {np.sum(dm.layout)}\")"
   ]
  },
  {
   "cell_type": "code",
   "execution_count": 7,
   "metadata": {},
   "outputs": [
    {
     "name": "stdout",
     "output_type": "stream",
     "text": [
      "COMPUTING TEL*DM...\n",
      " \n",
      "PREPARING IF_2D...\n",
      " \n",
      "Computing Specific Modes ...\n",
      " \n",
      "COMPUTING VON KARMAN 2D PSD...\n",
      " \n",
      "COMPUTING COV MAT HHt...\n",
      " \n",
      "TIME ELAPSED: 0 sec. COMPLETED: 100 %\n",
      "SERIALIZING IFs...\n",
      " \n",
      "SERIALIZING Specific Modes...\n",
      " \n",
      "COMPUTING IFs CROSS PRODUCT...\n",
      " \n",
      "NMAX =  17\n",
      "RMS opd error = [[1.69814834e-08 6.46646817e-08 6.46646817e-08]]\n",
      "RMS Positions = [[1.75602688e-07 5.60200196e-07 5.60200196e-07]]\n",
      "MAX Positions = [[6.19665037e-07 9.99272119e-07 9.99272119e-07]]\n",
      "CHECKING ORTHONORMALITY OF SPECIFIC MODES...\n",
      " \n",
      "Orthonormality error for SpM =  4.440892098500626e-16\n",
      "BUILDING SEED BASIS ...\n",
      " \n",
      "Orthonormality error for 16 modes of the Seed Basis =  1.3322676295501878e-14\n",
      "WARNING: Number of modes requested too high, taking the maximum value possible!\n",
      "KL WITH DOUBLE DIAGONALISATION: COVARIANCE ERROR =  2.9643839652876435e-14\n",
      "Orthonormality error for 16 modes of the KL Basis =  1.176836406102666e-14\n",
      "Piston removed from the modal basis!\n",
      "Closing wfc\n",
      "Opening Existing Shared Memory Object wfc\n",
      "Opening Existing Shared Memory Object wfc_meta\n",
      "Opening Existing Shared Memory Object wfs_meta\n",
      "Closing wfs_meta\n",
      "Opening Existing Shared Memory Object wfs\n",
      "Opening Existing Shared Memory Object wfs_meta\n",
      "subApSpacing: 8\n",
      "numRegions: 4\n",
      "offsetX: 0\n",
      "offsetY: 0\n",
      "signalSize: 32\n",
      "signalShape: (8, 4)\n",
      "signalDType: <class 'numpy.float32'>\n",
      "Opening Existing Shared Memory Object signal\n",
      "Opening Existing Shared Memory Object signal_meta\n",
      "Opening Existing Shared Memory Object signal_meta\n",
      "Closing signal_meta\n",
      "Opening Existing Shared Memory Object signal\n",
      "Opening Existing Shared Memory Object signal_meta\n",
      "Opening Existing Shared Memory Object wfc_meta\n",
      "Closing wfc_meta\n",
      "Opening Existing Shared Memory Object wfc\n",
      "Opening Existing Shared Memory Object wfc_meta\n"
     ]
    }
   ],
   "source": [
    "\"\"\"\n",
    "It's important to set the full basis and number of possible modes before\n",
    "initializing the loop object. Here I define a KL basis for the system\n",
    "\"\"\"\n",
    "from OOPAO.calibration.compute_KL_modal_basis import compute_KL_basis\n",
    "\n",
    "NUM_MODES = 21\n",
    "\n",
    "M2C_KL = compute_KL_basis(sim.tel, sim.atm, sim.dm)\n",
    "dm.setM2C(M2C_KL[:,:NUM_MODES])\n",
    "\n",
    "\"\"\"\n",
    "\"\"\"\n",
    "slopes = SlopesProcess(conf=conf)\n",
    "\n",
    "\"\"\" \n",
    "\"\"\"\n",
    "#Initialize our AO loop object\n",
    "loop = Loop(conf=conf)"
   ]
  },
  {
   "cell_type": "code",
   "execution_count": 8,
   "metadata": {},
   "outputs": [],
   "source": [
    "\"\"\"\n",
    "Start the processes. Here the real-time computations selected in\n",
    "the config will begin.\n",
    "\"\"\"\n",
    "dm.start()\n",
    "dm.flatten()\n",
    "\n",
    "wfs.start()\n",
    "slopes.start()\n",
    "\n",
    "#Take new reference slopes while dm is flat.\n",
    "time.sleep(1)\n",
    "slopes.takeRefSlopes()\n",
    "\n",
    "# print(sim.dm.OPD.shape)\n",
    "psf.start()"
   ]
  },
  {
   "cell_type": "code",
   "execution_count": 9,
   "metadata": {},
   "outputs": [
    {
     "name": "stdout",
     "output_type": "stream",
     "text": [
      "Telescope and Atmosphere separated!\n",
      "Telescope and Atmosphere separated!\n",
      "Telescope and Atmosphere combined!\n",
      "Telescope and Atmosphere combined!\n"
     ]
    }
   ],
   "source": [
    "#Remove the atmosphere from the simulation\n",
    "sim.removeAtmosphere()\n",
    "\n",
    "loop.pokeAmp = 1e-7\n",
    "\n",
    "#Compute the IM, blocking\n",
    "loop.computeIM()\n",
    "\n",
    "#Add the atmosphere back to the simulation\n",
    "sim.addAtmosphere()"
   ]
  },
  {
   "cell_type": "code",
   "execution_count": 10,
   "metadata": {},
   "outputs": [
    {
     "data": {
      "image/png": "[encoded data removed]",
      "text/plain": [
       "<Figure size 432x288 with 1 Axes>"
      ]
     },
     "metadata": {
      "needs_background": "light"
     },
     "output_type": "display_data"
    }
   ],
   "source": [
    "loop.plotIM()"
   ]
  },
  {
   "cell_type": "code",
   "execution_count": 13,
   "metadata": {},
   "outputs": [],
   "source": [
    "dm.flatten()\n",
    "time.sleep(1e-2)\n",
    "loop.setGain(0.3)\n",
    "loop.start()\n",
    "time.sleep(10)\n",
    "loop.stop()\n",
    "dm.flatten()"
   ]
  },
  {
   "cell_type": "code",
   "execution_count": null,
   "metadata": {},
   "outputs": [],
   "source": []
  }
 ],
 "metadata": {
  "kernelspec": {
   "display_name": "pyRTC",
   "language": "python",
   "name": "python3"
  },
  "language_info": {
   "codemirror_mode": {
    "name": "ipython",
    "version": 3
   },
   "file_extension": ".py",
   "mimetype": "text/x-python",
   "name": "python",
   "nbconvert_exporter": "python",
   "pygments_lexer": "ipython3",
   "version": "3.9.12"
  }
 },
 "nbformat": 4,
 "nbformat_minor": 2
}
